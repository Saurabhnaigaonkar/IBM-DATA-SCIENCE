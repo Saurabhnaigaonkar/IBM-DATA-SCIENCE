{
 "cells": [
  {
   "cell_type": "markdown",
   "id": "eb091a51",
   "metadata": {},
   "source": [
    "<H1> My Jupyter Notebook on IBM Watson Studio </H1>"
   ]
  },
  {
   "cell_type": "markdown",
   "id": "f3fcb4b2",
   "metadata": {},
   "source": [
    "Saurabh Satish Naigaonkar\n",
    "Software Engineer"
   ]
  },
  {
   "cell_type": "markdown",
   "id": "aea9e8b3",
   "metadata": {},
   "source": [
    "<I> I am Intrested in Data Science because I would love to contribute towards affordable and quality solutions in the future. </I> "
   ]
  },
  {
   "cell_type": "markdown",
   "id": "06f659b9",
   "metadata": {},
   "source": [
    "<H3> The below script should print addition of two numbers : </H3>"
   ]
  },
  {
   "cell_type": "code",
   "execution_count": 8,
   "id": "071c55e9",
   "metadata": {},
   "outputs": [
    {
     "name": "stdout",
     "output_type": "stream",
     "text": [
      "enter a 1st number : 2\n",
      "enter a 2nd number : 2\n",
      "Addition of two numbers is :  4\n"
     ]
    }
   ],
   "source": [
    "def sum(a,b):\n",
    "    addition_of_two_numbers = a + b;\n",
    "    return addition_of_two_numbers;\n",
    "a = int(input(\"enter a 1st number : \"))\n",
    "b = int(input(\"enter a 2nd number : \"))\n",
    "print(\"Addition of two numbers is : \",sum(a,b))"
   ]
  },
  {
   "cell_type": "code",
   "execution_count": null,
   "id": "dc40aa9b",
   "metadata": {},
   "outputs": [],
   "source": []
  }
 ],
 "metadata": {
  "kernelspec": {
   "display_name": "Python 3 (ipykernel)",
   "language": "python",
   "name": "python3"
  },
  "language_info": {
   "codemirror_mode": {
    "name": "ipython",
    "version": 3
   },
   "file_extension": ".py",
   "mimetype": "text/x-python",
   "name": "python",
   "nbconvert_exporter": "python",
   "pygments_lexer": "ipython3",
   "version": "3.10.4"
  }
 },
 "nbformat": 4,
 "nbformat_minor": 5
}
